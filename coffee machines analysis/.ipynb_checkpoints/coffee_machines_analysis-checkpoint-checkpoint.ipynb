{
 "cells": [
  {
   "cell_type": "markdown",
   "id": "5be620e2",
   "metadata": {},
   "source": [
    "# All Imports and Functions"
   ]
  },
  {
   "cell_type": "code",
   "execution_count": 139,
   "id": "b7137056",
   "metadata": {},
   "outputs": [],
   "source": [
    "# Import standard packages\n",
    "import pandas as pd\n",
    "import numpy as np\n",
    "import matplotlib.pyplot as plt\n",
    "import seaborn as sns\n",
    "import missingno as msno\n",
    "\n",
    "from sklearn.metrics import accuracy_score\n",
    "\n",
    "# set the default output to pandas\n",
    "from sklearn import set_config\n",
    "set_config(transform_output='pandas')\n",
    "\n",
    "# Import modeling tools\n",
    "from sklearn.model_selection import train_test_split\n",
    "from sklearn.model_selection import GridSearchCV\n",
    "from sklearn.model_selection import RandomizedSearchCV\n",
    "\n",
    "\n",
    "from sklearn.metrics import f1_score, recall_score, accuracy_score, precision_score\n",
    "from sklearn.metrics import confusion_matrix, ConfusionMatrixDisplay ,classification_report\n",
    "\n",
    "\n",
    "\n",
    "from sklearn.ensemble import RandomForestClassifier\n"
   ]
  },
  {
   "cell_type": "code",
   "execution_count": 140,
   "id": "af71a6a6",
   "metadata": {},
   "outputs": [],
   "source": [
    "def classification_metrics(y_true, y_pred, label='',\n",
    "                           output_dict=False, figsize=(8,4),\n",
    "                           normalize='true', cmap='Blues',\n",
    "                           colorbar=False):\n",
    "  # Get the classification report\n",
    "  report = classification_report(y_true, y_pred)\n",
    "  ## Print header and report\n",
    "  header = \"-\"*70\n",
    "  print(header, f\" Classification Metrics: {label}\", header, sep='\\n')\n",
    "  print(report)\n",
    "  ## CONFUSION MATRICES SUBPLOTS\n",
    "  fig, axes = plt.subplots(ncols=2, figsize=figsize)\n",
    "  # create a confusion matrix  of raw counts\n",
    "  ConfusionMatrixDisplay.from_predictions(y_true, y_pred,\n",
    "                normalize=None, cmap='gist_gray', colorbar=colorbar,\n",
    "                ax = axes[0],);\n",
    "  axes[0].set_title(\"Raw Counts\")\n",
    "  # create a confusion matrix with the test data\n",
    "  ConfusionMatrixDisplay.from_predictions(y_true, y_pred,\n",
    "                normalize=normalize, cmap=cmap, colorbar=colorbar,\n",
    "                ax = axes[1]);\n",
    "  axes[1].set_title(\"Normalized Confusion Matrix\")\n",
    "  # Adjust layout and show figure\n",
    "  fig.tight_layout()\n",
    "  plt.show()\n",
    "  # Return dictionary of classification_report\n",
    "  if output_dict==True:\n",
    "    report_dict = classification_report(y_true, y_pred, output_dict=True)\n",
    "    return report_dict\n",
    "\n",
    "\n",
    "\n",
    "def evaluate_classification(model, X_train, y_train, X_test, y_test,\n",
    "                         figsize=(6,4), normalize='true', output_dict = False,\n",
    "                            cmap_train='Blues', cmap_test=\"Reds\",colorbar=False):\n",
    "  # Get predictions for training data\n",
    "  y_train_pred = model.predict(X_train)\n",
    "  # Call the helper function to obtain regression metrics for training data\n",
    "  results_train = classification_metrics(y_train, y_train_pred, #verbose = verbose,\n",
    "                                     output_dict=True, figsize=figsize,\n",
    "                                         colorbar=colorbar, cmap=cmap_train,\n",
    "                                     label='Training Data')\n",
    "  print()\n",
    "  # Get predictions for test data\n",
    "  y_test_pred = model.predict(X_test)\n",
    "  # Call the helper function to obtain regression metrics for test data\n",
    "  results_test = classification_metrics(y_test, y_test_pred, #verbose = verbose,\n",
    "                                  output_dict=True,figsize=figsize,\n",
    "                                         colorbar=colorbar, cmap=cmap_test,\n",
    "                                    label='Test Data' )\n",
    "  if output_dict == True:\n",
    "    # Store results in a dataframe if ouput_frame is True\n",
    "    results_dict = {'train':results_train,\n",
    "                    'test': results_test}\n",
    "    return results_dict"
   ]
  },
  {
   "cell_type": "code",
   "execution_count": 141,
   "id": "098a3f8d",
   "metadata": {},
   "outputs": [],
   "source": [
    "def overView(df):\n",
    "  for key in df:\n",
    "    print(f\"Value Counts for '{key}'\")\n",
    "    print('*'*30)\n",
    "\n",
    "    print(df[key].value_counts())\n",
    "    print('*'*30)\n",
    "\n",
    "    print(f\"Value type is '{df[key].dtypes}'\")\n",
    "    print('*'*30)\n",
    "    print(f\"Value decription:- \\n{df[key].describe()}\")\n",
    "    print('*'*30)\n",
    "\n",
    "    print(f\"Value unique = {round((df[key].nunique()/len(df)*100),2)}%\")\n",
    "    print('*'*30)\n",
    "\n",
    "    print(f\"Value NaN = {round((df[key].isna().sum()/len(df)*100), 2)}%\")\n",
    "    print('*'*30)\n",
    "\n",
    "    print('\\n')\n",
    "    print('/'*40)"
   ]
  },
  {
   "cell_type": "markdown",
   "id": "de95e015",
   "metadata": {},
   "source": [
    "# Load the data"
   ]
  },
  {
   "cell_type": "code",
   "execution_count": 142,
   "id": "5d8d0397",
   "metadata": {},
   "outputs": [
    {
     "name": "stdout",
     "output_type": "stream",
     "text": [
      "<class 'pandas.core.frame.DataFrame'>\n",
      "RangeIndex: 262144 entries, 0 to 262143\n",
      "Data columns (total 17 columns):\n",
      " #   Column  Non-Null Count   Dtype\n",
      "---  ------  --------------   -----\n",
      " 0   he      262144 non-null  int64\n",
      " 1   fp      262144 non-null  int64\n",
      " 2   fc      262144 non-null  int64\n",
      " 3   wr      262144 non-null  int64\n",
      " 4   gs      262144 non-null  int64\n",
      " 5   dp      262144 non-null  int64\n",
      " 6   fh      262144 non-null  int64\n",
      " 7   pw      262144 non-null  int64\n",
      " 8   cb      262144 non-null  int64\n",
      " 9   gw      262144 non-null  int64\n",
      " 10  ls      262144 non-null  int64\n",
      " 11  vp      262144 non-null  int64\n",
      " 12  lo      262144 non-null  int64\n",
      " 13  wv      262144 non-null  int64\n",
      " 14  hp      262144 non-null  int64\n",
      " 15  me      262144 non-null  int64\n",
      " 16  ta      262144 non-null  int64\n",
      "dtypes: int64(17)\n",
      "memory usage: 34.0 MB\n"
     ]
    },
    {
     "data": {
      "text/html": [
       "<div>\n",
       "<style scoped>\n",
       "    .dataframe tbody tr th:only-of-type {\n",
       "        vertical-align: middle;\n",
       "    }\n",
       "\n",
       "    .dataframe tbody tr th {\n",
       "        vertical-align: top;\n",
       "    }\n",
       "\n",
       "    .dataframe thead th {\n",
       "        text-align: right;\n",
       "    }\n",
       "</style>\n",
       "<table border=\"1\" class=\"dataframe\">\n",
       "  <thead>\n",
       "    <tr style=\"text-align: right;\">\n",
       "      <th></th>\n",
       "      <th>he</th>\n",
       "      <th>fp</th>\n",
       "      <th>fc</th>\n",
       "      <th>wr</th>\n",
       "      <th>gs</th>\n",
       "      <th>dp</th>\n",
       "      <th>fh</th>\n",
       "      <th>pw</th>\n",
       "      <th>cb</th>\n",
       "      <th>gw</th>\n",
       "      <th>ls</th>\n",
       "      <th>vp</th>\n",
       "      <th>lo</th>\n",
       "      <th>wv</th>\n",
       "      <th>hp</th>\n",
       "      <th>me</th>\n",
       "      <th>ta</th>\n",
       "    </tr>\n",
       "  </thead>\n",
       "  <tbody>\n",
       "    <tr>\n",
       "      <th>0</th>\n",
       "      <td>0</td>\n",
       "      <td>0</td>\n",
       "      <td>0</td>\n",
       "      <td>0</td>\n",
       "      <td>0</td>\n",
       "      <td>0</td>\n",
       "      <td>0</td>\n",
       "      <td>1</td>\n",
       "      <td>1</td>\n",
       "      <td>1</td>\n",
       "      <td>1</td>\n",
       "      <td>1</td>\n",
       "      <td>1</td>\n",
       "      <td>0</td>\n",
       "      <td>1</td>\n",
       "      <td>1</td>\n",
       "      <td>1</td>\n",
       "    </tr>\n",
       "    <tr>\n",
       "      <th>1</th>\n",
       "      <td>0</td>\n",
       "      <td>0</td>\n",
       "      <td>0</td>\n",
       "      <td>0</td>\n",
       "      <td>0</td>\n",
       "      <td>0</td>\n",
       "      <td>0</td>\n",
       "      <td>1</td>\n",
       "      <td>1</td>\n",
       "      <td>1</td>\n",
       "      <td>0</td>\n",
       "      <td>1</td>\n",
       "      <td>1</td>\n",
       "      <td>1</td>\n",
       "      <td>1</td>\n",
       "      <td>1</td>\n",
       "      <td>1</td>\n",
       "    </tr>\n",
       "    <tr>\n",
       "      <th>2</th>\n",
       "      <td>0</td>\n",
       "      <td>0</td>\n",
       "      <td>0</td>\n",
       "      <td>0</td>\n",
       "      <td>0</td>\n",
       "      <td>0</td>\n",
       "      <td>0</td>\n",
       "      <td>1</td>\n",
       "      <td>1</td>\n",
       "      <td>1</td>\n",
       "      <td>1</td>\n",
       "      <td>1</td>\n",
       "      <td>1</td>\n",
       "      <td>1</td>\n",
       "      <td>1</td>\n",
       "      <td>1</td>\n",
       "      <td>1</td>\n",
       "    </tr>\n",
       "    <tr>\n",
       "      <th>3</th>\n",
       "      <td>0</td>\n",
       "      <td>0</td>\n",
       "      <td>0</td>\n",
       "      <td>0</td>\n",
       "      <td>0</td>\n",
       "      <td>0</td>\n",
       "      <td>0</td>\n",
       "      <td>1</td>\n",
       "      <td>1</td>\n",
       "      <td>1</td>\n",
       "      <td>1</td>\n",
       "      <td>1</td>\n",
       "      <td>1</td>\n",
       "      <td>1</td>\n",
       "      <td>1</td>\n",
       "      <td>1</td>\n",
       "      <td>1</td>\n",
       "    </tr>\n",
       "    <tr>\n",
       "      <th>4</th>\n",
       "      <td>0</td>\n",
       "      <td>1</td>\n",
       "      <td>0</td>\n",
       "      <td>0</td>\n",
       "      <td>0</td>\n",
       "      <td>0</td>\n",
       "      <td>0</td>\n",
       "      <td>0</td>\n",
       "      <td>0</td>\n",
       "      <td>0</td>\n",
       "      <td>1</td>\n",
       "      <td>0</td>\n",
       "      <td>0</td>\n",
       "      <td>1</td>\n",
       "      <td>1</td>\n",
       "      <td>0</td>\n",
       "      <td>0</td>\n",
       "    </tr>\n",
       "  </tbody>\n",
       "</table>\n",
       "</div>"
      ],
      "text/plain": [
       "   he  fp  fc  wr  gs  dp  fh  pw  cb  gw  ls  vp  lo  wv  hp  me  ta\n",
       "0   0   0   0   0   0   0   0   1   1   1   1   1   1   0   1   1   1\n",
       "1   0   0   0   0   0   0   0   1   1   1   0   1   1   1   1   1   1\n",
       "2   0   0   0   0   0   0   0   1   1   1   1   1   1   1   1   1   1\n",
       "3   0   0   0   0   0   0   0   1   1   1   1   1   1   1   1   1   1\n",
       "4   0   1   0   0   0   0   0   0   0   0   1   0   0   1   1   0   0"
      ]
     },
     "execution_count": 142,
     "metadata": {},
     "output_type": "execute_result"
    }
   ],
   "source": [
    "fpath = \"coffee_machines.csv\"\n",
    "df = pd.read_csv(fpath)\n",
    "df.info()\n",
    "df.head()\n"
   ]
  },
  {
   "cell_type": "code",
   "execution_count": 143,
   "id": "4a2b5c5c",
   "metadata": {},
   "outputs": [
    {
     "data": {
      "text/plain": [
       "0"
      ]
     },
     "execution_count": 143,
     "metadata": {},
     "output_type": "execute_result"
    }
   ],
   "source": [
    "df.isna().sum().sum()"
   ]
  },
  {
   "cell_type": "code",
   "execution_count": 144,
   "id": "9d823f91",
   "metadata": {},
   "outputs": [
    {
     "name": "stdout",
     "output_type": "stream",
     "text": [
      "Value Counts for 'he'\n",
      "******************************\n",
      "0    259647\n",
      "1      2497\n",
      "Name: he, dtype: int64\n",
      "******************************\n",
      "Value type is 'int64'\n",
      "******************************\n",
      "Value decription:- \n",
      "count    262144.000000\n",
      "mean          0.009525\n",
      "std           0.097132\n",
      "min           0.000000\n",
      "25%           0.000000\n",
      "50%           0.000000\n",
      "75%           0.000000\n",
      "max           1.000000\n",
      "Name: he, dtype: float64\n",
      "******************************\n",
      "Value unique = 0.0%\n",
      "******************************\n",
      "Value NaN = 0.0%\n",
      "******************************\n",
      "\n",
      "\n",
      "////////////////////////////////////////\n",
      "Value Counts for 'fp'\n",
      "******************************\n",
      "0    209863\n",
      "1     52281\n",
      "Name: fp, dtype: int64\n",
      "******************************\n",
      "Value type is 'int64'\n",
      "******************************\n",
      "Value decription:- \n",
      "count    262144.000000\n",
      "mean          0.199436\n",
      "std           0.399577\n",
      "min           0.000000\n",
      "25%           0.000000\n",
      "50%           0.000000\n",
      "75%           0.000000\n",
      "max           1.000000\n",
      "Name: fp, dtype: float64\n",
      "******************************\n",
      "Value unique = 0.0%\n",
      "******************************\n",
      "Value NaN = 0.0%\n",
      "******************************\n",
      "\n",
      "\n",
      "////////////////////////////////////////\n",
      "Value Counts for 'fc'\n",
      "******************************\n",
      "0    256914\n",
      "1      5230\n",
      "Name: fc, dtype: int64\n",
      "******************************\n",
      "Value type is 'int64'\n",
      "******************************\n",
      "Value decription:- \n",
      "count    262144.000000\n",
      "mean          0.019951\n",
      "std           0.139832\n",
      "min           0.000000\n",
      "25%           0.000000\n",
      "50%           0.000000\n",
      "75%           0.000000\n",
      "max           1.000000\n",
      "Name: fc, dtype: float64\n",
      "******************************\n",
      "Value unique = 0.0%\n",
      "******************************\n",
      "Value NaN = 0.0%\n",
      "******************************\n",
      "\n",
      "\n",
      "////////////////////////////////////////\n",
      "Value Counts for 'wr'\n",
      "******************************\n",
      "0    235817\n",
      "1     26327\n",
      "Name: wr, dtype: int64\n",
      "******************************\n",
      "Value type is 'int64'\n",
      "******************************\n",
      "Value decription:- \n",
      "count    262144.000000\n",
      "mean          0.100430\n",
      "std           0.300572\n",
      "min           0.000000\n",
      "25%           0.000000\n",
      "50%           0.000000\n",
      "75%           0.000000\n",
      "max           1.000000\n",
      "Name: wr, dtype: float64\n",
      "******************************\n",
      "Value unique = 0.0%\n",
      "******************************\n",
      "Value NaN = 0.0%\n",
      "******************************\n",
      "\n",
      "\n",
      "////////////////////////////////////////\n",
      "Value Counts for 'gs'\n",
      "******************************\n",
      "0    249065\n",
      "1     13079\n",
      "Name: gs, dtype: int64\n",
      "******************************\n",
      "Value type is 'int64'\n",
      "******************************\n",
      "Value decription:- \n",
      "count    262144.000000\n",
      "mean          0.049892\n",
      "std           0.217723\n",
      "min           0.000000\n",
      "25%           0.000000\n",
      "50%           0.000000\n",
      "75%           0.000000\n",
      "max           1.000000\n",
      "Name: gs, dtype: float64\n",
      "******************************\n",
      "Value unique = 0.0%\n",
      "******************************\n",
      "Value NaN = 0.0%\n",
      "******************************\n",
      "\n",
      "\n",
      "////////////////////////////////////////\n",
      "Value Counts for 'dp'\n",
      "******************************\n",
      "0    248954\n",
      "1     13190\n",
      "Name: dp, dtype: int64\n",
      "******************************\n",
      "Value type is 'int64'\n",
      "******************************\n",
      "Value decription:- \n",
      "count    262144.000000\n",
      "mean          0.050316\n",
      "std           0.218596\n",
      "min           0.000000\n",
      "25%           0.000000\n",
      "50%           0.000000\n",
      "75%           0.000000\n",
      "max           1.000000\n",
      "Name: dp, dtype: float64\n",
      "******************************\n",
      "Value unique = 0.0%\n",
      "******************************\n",
      "Value NaN = 0.0%\n",
      "******************************\n",
      "\n",
      "\n",
      "////////////////////////////////////////\n",
      "Value Counts for 'fh'\n",
      "******************************\n",
      "0    254369\n",
      "1      7775\n",
      "Name: fh, dtype: int64\n",
      "******************************\n",
      "Value type is 'int64'\n",
      "******************************\n",
      "Value decription:- \n",
      "count    262144.000000\n",
      "mean          0.029659\n",
      "std           0.169646\n",
      "min           0.000000\n",
      "25%           0.000000\n",
      "50%           0.000000\n",
      "75%           0.000000\n",
      "max           1.000000\n",
      "Name: fh, dtype: float64\n",
      "******************************\n",
      "Value unique = 0.0%\n",
      "******************************\n",
      "Value NaN = 0.0%\n",
      "******************************\n",
      "\n",
      "\n",
      "////////////////////////////////////////\n",
      "Value Counts for 'pw'\n",
      "******************************\n",
      "1    207882\n",
      "0     54262\n",
      "Name: pw, dtype: int64\n",
      "******************************\n",
      "Value type is 'int64'\n",
      "******************************\n",
      "Value decription:- \n",
      "count    262144.000000\n",
      "mean          0.793007\n",
      "std           0.405151\n",
      "min           0.000000\n",
      "25%           1.000000\n",
      "50%           1.000000\n",
      "75%           1.000000\n",
      "max           1.000000\n",
      "Name: pw, dtype: float64\n",
      "******************************\n",
      "Value unique = 0.0%\n",
      "******************************\n",
      "Value NaN = 0.0%\n",
      "******************************\n",
      "\n",
      "\n",
      "////////////////////////////////////////\n",
      "Value Counts for 'cb'\n",
      "******************************\n",
      "1    203701\n",
      "0     58443\n",
      "Name: cb, dtype: int64\n",
      "******************************\n",
      "Value type is 'int64'\n",
      "******************************\n",
      "Value decription:- \n",
      "count    262144.000000\n",
      "mean          0.777058\n",
      "std           0.416221\n",
      "min           0.000000\n",
      "25%           1.000000\n",
      "50%           1.000000\n",
      "75%           1.000000\n",
      "max           1.000000\n",
      "Name: cb, dtype: float64\n",
      "******************************\n",
      "Value unique = 0.0%\n",
      "******************************\n",
      "Value NaN = 0.0%\n",
      "******************************\n",
      "\n",
      "\n",
      "////////////////////////////////////////\n",
      "Value Counts for 'gw'\n",
      "******************************\n",
      "1    175739\n",
      "0     86405\n",
      "Name: gw, dtype: int64\n",
      "******************************\n",
      "Value type is 'int64'\n",
      "******************************\n",
      "Value decription:- \n",
      "count    262144.000000\n",
      "mean          0.670391\n",
      "std           0.470072\n",
      "min           0.000000\n",
      "25%           0.000000\n",
      "50%           1.000000\n",
      "75%           1.000000\n",
      "max           1.000000\n",
      "Name: gw, dtype: float64\n",
      "******************************\n",
      "Value unique = 0.0%\n",
      "******************************\n",
      "Value NaN = 0.0%\n",
      "******************************\n",
      "\n",
      "\n",
      "////////////////////////////////////////\n",
      "Value Counts for 'ls'\n",
      "******************************\n",
      "1    233691\n",
      "0     28453\n",
      "Name: ls, dtype: int64\n",
      "******************************\n",
      "Value type is 'int64'\n",
      "******************************\n",
      "Value decription:- \n",
      "count    262144.000000\n",
      "mean          0.891460\n",
      "std           0.311061\n",
      "min           0.000000\n",
      "25%           1.000000\n",
      "50%           1.000000\n",
      "75%           1.000000\n",
      "max           1.000000\n",
      "Name: ls, dtype: float64\n",
      "******************************\n",
      "Value unique = 0.0%\n",
      "******************************\n",
      "Value NaN = 0.0%\n",
      "******************************\n",
      "\n",
      "\n",
      "////////////////////////////////////////\n",
      "Value Counts for 'vp'\n",
      "******************************\n",
      "1    205784\n",
      "0     56360\n",
      "Name: vp, dtype: int64\n",
      "******************************\n",
      "Value type is 'int64'\n",
      "******************************\n",
      "Value decription:- \n",
      "count    262144.000000\n",
      "mean          0.785004\n",
      "std           0.410821\n",
      "min           0.000000\n",
      "25%           1.000000\n",
      "50%           1.000000\n",
      "75%           1.000000\n",
      "max           1.000000\n",
      "Name: vp, dtype: float64\n",
      "******************************\n",
      "Value unique = 0.0%\n",
      "******************************\n",
      "Value NaN = 0.0%\n",
      "******************************\n",
      "\n",
      "\n",
      "////////////////////////////////////////\n",
      "Value Counts for 'lo'\n",
      "******************************\n",
      "1    203491\n",
      "0     58653\n",
      "Name: lo, dtype: int64\n",
      "******************************\n",
      "Value type is 'int64'\n",
      "******************************\n",
      "Value decription:- \n",
      "count    262144.000000\n",
      "mean          0.776257\n",
      "std           0.416753\n",
      "min           0.000000\n",
      "25%           1.000000\n",
      "50%           1.000000\n",
      "75%           1.000000\n",
      "max           1.000000\n",
      "Name: lo, dtype: float64\n",
      "******************************\n",
      "Value unique = 0.0%\n",
      "******************************\n",
      "Value NaN = 0.0%\n",
      "******************************\n",
      "\n",
      "\n",
      "////////////////////////////////////////\n",
      "Value Counts for 'wv'\n",
      "******************************\n",
      "1    188688\n",
      "0     73456\n",
      "Name: wv, dtype: int64\n",
      "******************************\n",
      "Value type is 'int64'\n",
      "******************************\n",
      "Value decription:- \n",
      "count    262144.000000\n",
      "mean          0.719788\n",
      "std           0.449104\n",
      "min           0.000000\n",
      "25%           0.000000\n",
      "50%           1.000000\n",
      "75%           1.000000\n",
      "max           1.000000\n",
      "Name: wv, dtype: float64\n",
      "******************************\n",
      "Value unique = 0.0%\n",
      "******************************\n",
      "Value NaN = 0.0%\n",
      "******************************\n",
      "\n",
      "\n",
      "////////////////////////////////////////\n",
      "Value Counts for 'hp'\n",
      "******************************\n",
      "1    224235\n",
      "0     37909\n",
      "Name: hp, dtype: int64\n",
      "******************************\n",
      "Value type is 'int64'\n",
      "******************************\n",
      "Value decription:- \n",
      "count    262144.000000\n",
      "mean          0.855389\n",
      "std           0.351709\n",
      "min           0.000000\n",
      "25%           1.000000\n",
      "50%           1.000000\n",
      "75%           1.000000\n",
      "max           1.000000\n",
      "Name: hp, dtype: float64\n",
      "******************************\n",
      "Value unique = 0.0%\n",
      "******************************\n",
      "Value NaN = 0.0%\n",
      "******************************\n",
      "\n",
      "\n",
      "////////////////////////////////////////\n",
      "Value Counts for 'me'\n",
      "******************************\n",
      "1    151318\n",
      "0    110826\n",
      "Name: me, dtype: int64\n",
      "******************************\n",
      "Value type is 'int64'\n",
      "******************************\n",
      "Value decription:- \n",
      "count    262144.000000\n",
      "mean          0.577232\n",
      "std           0.494000\n",
      "min           0.000000\n",
      "25%           0.000000\n",
      "50%           1.000000\n",
      "75%           1.000000\n",
      "max           1.000000\n",
      "Name: me, dtype: float64\n",
      "******************************\n",
      "Value unique = 0.0%\n",
      "******************************\n",
      "Value NaN = 0.0%\n",
      "******************************\n",
      "\n",
      "\n",
      "////////////////////////////////////////\n",
      "Value Counts for 'ta'\n",
      "******************************\n",
      "1    139541\n",
      "0    122603\n",
      "Name: ta, dtype: int64\n",
      "******************************\n",
      "Value type is 'int64'\n",
      "******************************\n",
      "Value decription:- \n",
      "count    262144.000000\n",
      "mean          0.532307\n",
      "std           0.498956\n",
      "min           0.000000\n",
      "25%           0.000000\n",
      "50%           1.000000\n",
      "75%           1.000000\n",
      "max           1.000000\n",
      "Name: ta, dtype: float64\n",
      "******************************\n"
     ]
    },
    {
     "name": "stdout",
     "output_type": "stream",
     "text": [
      "Value unique = 0.0%\n",
      "******************************\n",
      "Value NaN = 0.0%\n",
      "******************************\n",
      "\n",
      "\n",
      "////////////////////////////////////////\n"
     ]
    }
   ],
   "source": [
    "overView(df)"
   ]
  },
  {
   "cell_type": "code",
   "execution_count": 145,
   "id": "a548ad26",
   "metadata": {},
   "outputs": [
    {
     "data": {
      "text/html": [
       "<div>\n",
       "<style scoped>\n",
       "    .dataframe tbody tr th:only-of-type {\n",
       "        vertical-align: middle;\n",
       "    }\n",
       "\n",
       "    .dataframe tbody tr th {\n",
       "        vertical-align: top;\n",
       "    }\n",
       "\n",
       "    .dataframe thead th {\n",
       "        text-align: right;\n",
       "    }\n",
       "</style>\n",
       "<table border=\"1\" class=\"dataframe\">\n",
       "  <thead>\n",
       "    <tr style=\"text-align: right;\">\n",
       "      <th></th>\n",
       "      <th>he</th>\n",
       "      <th>fp</th>\n",
       "      <th>fc</th>\n",
       "      <th>wr</th>\n",
       "      <th>gs</th>\n",
       "      <th>dp</th>\n",
       "      <th>fh</th>\n",
       "    </tr>\n",
       "  </thead>\n",
       "  <tbody>\n",
       "    <tr>\n",
       "      <th>155695</th>\n",
       "      <td>0</td>\n",
       "      <td>0</td>\n",
       "      <td>0</td>\n",
       "      <td>0</td>\n",
       "      <td>0</td>\n",
       "      <td>0</td>\n",
       "      <td>0</td>\n",
       "    </tr>\n",
       "    <tr>\n",
       "      <th>260008</th>\n",
       "      <td>0</td>\n",
       "      <td>0</td>\n",
       "      <td>0</td>\n",
       "      <td>0</td>\n",
       "      <td>0</td>\n",
       "      <td>0</td>\n",
       "      <td>0</td>\n",
       "    </tr>\n",
       "    <tr>\n",
       "      <th>89956</th>\n",
       "      <td>0</td>\n",
       "      <td>0</td>\n",
       "      <td>0</td>\n",
       "      <td>0</td>\n",
       "      <td>0</td>\n",
       "      <td>0</td>\n",
       "      <td>0</td>\n",
       "    </tr>\n",
       "    <tr>\n",
       "      <th>249268</th>\n",
       "      <td>0</td>\n",
       "      <td>0</td>\n",
       "      <td>0</td>\n",
       "      <td>0</td>\n",
       "      <td>0</td>\n",
       "      <td>0</td>\n",
       "      <td>0</td>\n",
       "    </tr>\n",
       "    <tr>\n",
       "      <th>213518</th>\n",
       "      <td>0</td>\n",
       "      <td>0</td>\n",
       "      <td>0</td>\n",
       "      <td>0</td>\n",
       "      <td>0</td>\n",
       "      <td>0</td>\n",
       "      <td>0</td>\n",
       "    </tr>\n",
       "  </tbody>\n",
       "</table>\n",
       "</div>"
      ],
      "text/plain": [
       "        he  fp  fc  wr  gs  dp  fh\n",
       "155695   0   0   0   0   0   0   0\n",
       "260008   0   0   0   0   0   0   0\n",
       "89956    0   0   0   0   0   0   0\n",
       "249268   0   0   0   0   0   0   0\n",
       "213518   0   0   0   0   0   0   0"
      ]
     },
     "execution_count": 145,
     "metadata": {},
     "output_type": "execute_result"
    }
   ],
   "source": [
    "\n",
    "target_arr = ['he', 'fp', 'fc', 'wr', 'gs', 'dp', 'fh']\n",
    "\n",
    "y = df[target_arr]\n",
    "X = df.drop(target_arr , axis=1)\n",
    "X_train, X_test, y_train, y_test = train_test_split(X, y, random_state=20)\n",
    "\n",
    "y_train.head()"
   ]
  },
  {
   "cell_type": "code",
   "execution_count": 146,
   "id": "6a866993",
   "metadata": {},
   "outputs": [
    {
     "data": {
      "text/html": [
       "<style>#sk-container-id-9 {color: black;background-color: white;}#sk-container-id-9 pre{padding: 0;}#sk-container-id-9 div.sk-toggleable {background-color: white;}#sk-container-id-9 label.sk-toggleable__label {cursor: pointer;display: block;width: 100%;margin-bottom: 0;padding: 0.3em;box-sizing: border-box;text-align: center;}#sk-container-id-9 label.sk-toggleable__label-arrow:before {content: \"▸\";float: left;margin-right: 0.25em;color: #696969;}#sk-container-id-9 label.sk-toggleable__label-arrow:hover:before {color: black;}#sk-container-id-9 div.sk-estimator:hover label.sk-toggleable__label-arrow:before {color: black;}#sk-container-id-9 div.sk-toggleable__content {max-height: 0;max-width: 0;overflow: hidden;text-align: left;background-color: #f0f8ff;}#sk-container-id-9 div.sk-toggleable__content pre {margin: 0.2em;color: black;border-radius: 0.25em;background-color: #f0f8ff;}#sk-container-id-9 input.sk-toggleable__control:checked~div.sk-toggleable__content {max-height: 200px;max-width: 100%;overflow: auto;}#sk-container-id-9 input.sk-toggleable__control:checked~label.sk-toggleable__label-arrow:before {content: \"▾\";}#sk-container-id-9 div.sk-estimator input.sk-toggleable__control:checked~label.sk-toggleable__label {background-color: #d4ebff;}#sk-container-id-9 div.sk-label input.sk-toggleable__control:checked~label.sk-toggleable__label {background-color: #d4ebff;}#sk-container-id-9 input.sk-hidden--visually {border: 0;clip: rect(1px 1px 1px 1px);clip: rect(1px, 1px, 1px, 1px);height: 1px;margin: -1px;overflow: hidden;padding: 0;position: absolute;width: 1px;}#sk-container-id-9 div.sk-estimator {font-family: monospace;background-color: #f0f8ff;border: 1px dotted black;border-radius: 0.25em;box-sizing: border-box;margin-bottom: 0.5em;}#sk-container-id-9 div.sk-estimator:hover {background-color: #d4ebff;}#sk-container-id-9 div.sk-parallel-item::after {content: \"\";width: 100%;border-bottom: 1px solid gray;flex-grow: 1;}#sk-container-id-9 div.sk-label:hover label.sk-toggleable__label {background-color: #d4ebff;}#sk-container-id-9 div.sk-serial::before {content: \"\";position: absolute;border-left: 1px solid gray;box-sizing: border-box;top: 0;bottom: 0;left: 50%;z-index: 0;}#sk-container-id-9 div.sk-serial {display: flex;flex-direction: column;align-items: center;background-color: white;padding-right: 0.2em;padding-left: 0.2em;position: relative;}#sk-container-id-9 div.sk-item {position: relative;z-index: 1;}#sk-container-id-9 div.sk-parallel {display: flex;align-items: stretch;justify-content: center;background-color: white;position: relative;}#sk-container-id-9 div.sk-item::before, #sk-container-id-9 div.sk-parallel-item::before {content: \"\";position: absolute;border-left: 1px solid gray;box-sizing: border-box;top: 0;bottom: 0;left: 50%;z-index: -1;}#sk-container-id-9 div.sk-parallel-item {display: flex;flex-direction: column;z-index: 1;position: relative;background-color: white;}#sk-container-id-9 div.sk-parallel-item:first-child::after {align-self: flex-end;width: 50%;}#sk-container-id-9 div.sk-parallel-item:last-child::after {align-self: flex-start;width: 50%;}#sk-container-id-9 div.sk-parallel-item:only-child::after {width: 0;}#sk-container-id-9 div.sk-dashed-wrapped {border: 1px dashed gray;margin: 0 0.4em 0.5em 0.4em;box-sizing: border-box;padding-bottom: 0.4em;background-color: white;}#sk-container-id-9 div.sk-label label {font-family: monospace;font-weight: bold;display: inline-block;line-height: 1.2em;}#sk-container-id-9 div.sk-label-container {text-align: center;}#sk-container-id-9 div.sk-container {/* jupyter's `normalize.less` sets `[hidden] { display: none; }` but bootstrap.min.css set `[hidden] { display: none !important; }` so we also need the `!important` here to be able to override the default hidden behavior on the sphinx rendered scikit-learn.org. See: https://github.com/scikit-learn/scikit-learn/issues/21755 */display: inline-block !important;position: relative;}#sk-container-id-9 div.sk-text-repr-fallback {display: none;}</style><div id=\"sk-container-id-9\" class=\"sk-top-container\"><div class=\"sk-text-repr-fallback\"><pre>KNeighborsClassifier()</pre><b>In a Jupyter environment, please rerun this cell to show the HTML representation or trust the notebook. <br />On GitHub, the HTML representation is unable to render, please try loading this page with nbviewer.org.</b></div><div class=\"sk-container\" hidden><div class=\"sk-item\"><div class=\"sk-estimator sk-toggleable\"><input class=\"sk-toggleable__control sk-hidden--visually\" id=\"sk-estimator-id-9\" type=\"checkbox\" checked><label for=\"sk-estimator-id-9\" class=\"sk-toggleable__label sk-toggleable__label-arrow\">KNeighborsClassifier</label><div class=\"sk-toggleable__content\"><pre>KNeighborsClassifier()</pre></div></div></div></div></div>"
      ],
      "text/plain": [
       "KNeighborsClassifier()"
      ]
     },
     "execution_count": 146,
     "metadata": {},
     "output_type": "execute_result"
    }
   ],
   "source": [
    "kn = KNeighborsClassifier()\n",
    "kn.fit(X_train, y_train)"
   ]
  },
  {
   "cell_type": "code",
   "execution_count": 147,
   "id": "880e7812",
   "metadata": {},
   "outputs": [],
   "source": [
    "y_predict = kn.predict(X_test)"
   ]
  },
  {
   "cell_type": "code",
   "execution_count": 164,
   "id": "807bd9f6",
   "metadata": {},
   "outputs": [
    {
     "name": "stdout",
     "output_type": "stream",
     "text": [
      "Accuracy on Test Set: 0.8634490966796875\n"
     ]
    }
   ],
   "source": [
    "accuracy = accuracy_score(y_test, y_predict)\n",
    "print(f\"Accuracy on Test Set: {accuracy}\")"
   ]
  },
  {
   "cell_type": "code",
   "execution_count": 149,
   "id": "32fea49f",
   "metadata": {},
   "outputs": [
    {
     "name": "stdout",
     "output_type": "stream",
     "text": [
      "              precision    recall  f1-score   support\n",
      "\n",
      "          he       0.32      0.24      0.27       617\n",
      "          fp       0.96      1.00      0.98     13110\n",
      "          fc       1.00      0.79      0.88      1300\n",
      "          wr       0.86      0.73      0.79      6593\n",
      "          gs       0.32      0.38      0.35      3297\n",
      "          dp       0.94      0.60      0.73      3298\n",
      "          fh       0.37      0.34      0.35      1934\n",
      "\n",
      "   micro avg       0.81      0.76      0.78     30149\n",
      "   macro avg       0.68      0.58      0.62     30149\n",
      "weighted avg       0.82      0.76      0.78     30149\n",
      " samples avg       0.34      0.32      0.32     30149\n",
      "\n"
     ]
    },
    {
     "name": "stderr",
     "output_type": "stream",
     "text": [
      "C:\\Users\\Work\\anaconda3\\lib\\site-packages\\sklearn\\metrics\\_classification.py:1344: UndefinedMetricWarning: Precision and F-score are ill-defined and being set to 0.0 in samples with no predicted labels. Use `zero_division` parameter to control this behavior.\n",
      "  _warn_prf(average, modifier, msg_start, len(result))\n",
      "C:\\Users\\Work\\anaconda3\\lib\\site-packages\\sklearn\\metrics\\_classification.py:1344: UndefinedMetricWarning: Recall and F-score are ill-defined and being set to 0.0 in samples with no true labels. Use `zero_division` parameter to control this behavior.\n",
      "  _warn_prf(average, modifier, msg_start, len(result))\n"
     ]
    }
   ],
   "source": [
    "print(classification_report(y_test, y_predict,target_names=target_arr))\n"
   ]
  },
  {
   "cell_type": "code",
   "execution_count": 150,
   "id": "8c513557",
   "metadata": {},
   "outputs": [
    {
     "data": {
      "text/plain": [
       "450"
      ]
     },
     "execution_count": 150,
     "metadata": {},
     "output_type": "execute_result"
    }
   ],
   "source": [
    "# y_test['he'].value_counts()\n",
    "# y_train['he'].value_counts(normalize=True)\n",
    "y_predict[:,0].sum()"
   ]
  },
  {
   "cell_type": "code",
   "execution_count": 151,
   "id": "7d9cfdf4",
   "metadata": {},
   "outputs": [
    {
     "data": {
      "text/html": [
       "<style>#sk-container-id-10 {color: black;background-color: white;}#sk-container-id-10 pre{padding: 0;}#sk-container-id-10 div.sk-toggleable {background-color: white;}#sk-container-id-10 label.sk-toggleable__label {cursor: pointer;display: block;width: 100%;margin-bottom: 0;padding: 0.3em;box-sizing: border-box;text-align: center;}#sk-container-id-10 label.sk-toggleable__label-arrow:before {content: \"▸\";float: left;margin-right: 0.25em;color: #696969;}#sk-container-id-10 label.sk-toggleable__label-arrow:hover:before {color: black;}#sk-container-id-10 div.sk-estimator:hover label.sk-toggleable__label-arrow:before {color: black;}#sk-container-id-10 div.sk-toggleable__content {max-height: 0;max-width: 0;overflow: hidden;text-align: left;background-color: #f0f8ff;}#sk-container-id-10 div.sk-toggleable__content pre {margin: 0.2em;color: black;border-radius: 0.25em;background-color: #f0f8ff;}#sk-container-id-10 input.sk-toggleable__control:checked~div.sk-toggleable__content {max-height: 200px;max-width: 100%;overflow: auto;}#sk-container-id-10 input.sk-toggleable__control:checked~label.sk-toggleable__label-arrow:before {content: \"▾\";}#sk-container-id-10 div.sk-estimator input.sk-toggleable__control:checked~label.sk-toggleable__label {background-color: #d4ebff;}#sk-container-id-10 div.sk-label input.sk-toggleable__control:checked~label.sk-toggleable__label {background-color: #d4ebff;}#sk-container-id-10 input.sk-hidden--visually {border: 0;clip: rect(1px 1px 1px 1px);clip: rect(1px, 1px, 1px, 1px);height: 1px;margin: -1px;overflow: hidden;padding: 0;position: absolute;width: 1px;}#sk-container-id-10 div.sk-estimator {font-family: monospace;background-color: #f0f8ff;border: 1px dotted black;border-radius: 0.25em;box-sizing: border-box;margin-bottom: 0.5em;}#sk-container-id-10 div.sk-estimator:hover {background-color: #d4ebff;}#sk-container-id-10 div.sk-parallel-item::after {content: \"\";width: 100%;border-bottom: 1px solid gray;flex-grow: 1;}#sk-container-id-10 div.sk-label:hover label.sk-toggleable__label {background-color: #d4ebff;}#sk-container-id-10 div.sk-serial::before {content: \"\";position: absolute;border-left: 1px solid gray;box-sizing: border-box;top: 0;bottom: 0;left: 50%;z-index: 0;}#sk-container-id-10 div.sk-serial {display: flex;flex-direction: column;align-items: center;background-color: white;padding-right: 0.2em;padding-left: 0.2em;position: relative;}#sk-container-id-10 div.sk-item {position: relative;z-index: 1;}#sk-container-id-10 div.sk-parallel {display: flex;align-items: stretch;justify-content: center;background-color: white;position: relative;}#sk-container-id-10 div.sk-item::before, #sk-container-id-10 div.sk-parallel-item::before {content: \"\";position: absolute;border-left: 1px solid gray;box-sizing: border-box;top: 0;bottom: 0;left: 50%;z-index: -1;}#sk-container-id-10 div.sk-parallel-item {display: flex;flex-direction: column;z-index: 1;position: relative;background-color: white;}#sk-container-id-10 div.sk-parallel-item:first-child::after {align-self: flex-end;width: 50%;}#sk-container-id-10 div.sk-parallel-item:last-child::after {align-self: flex-start;width: 50%;}#sk-container-id-10 div.sk-parallel-item:only-child::after {width: 0;}#sk-container-id-10 div.sk-dashed-wrapped {border: 1px dashed gray;margin: 0 0.4em 0.5em 0.4em;box-sizing: border-box;padding-bottom: 0.4em;background-color: white;}#sk-container-id-10 div.sk-label label {font-family: monospace;font-weight: bold;display: inline-block;line-height: 1.2em;}#sk-container-id-10 div.sk-label-container {text-align: center;}#sk-container-id-10 div.sk-container {/* jupyter's `normalize.less` sets `[hidden] { display: none; }` but bootstrap.min.css set `[hidden] { display: none !important; }` so we also need the `!important` here to be able to override the default hidden behavior on the sphinx rendered scikit-learn.org. See: https://github.com/scikit-learn/scikit-learn/issues/21755 */display: inline-block !important;position: relative;}#sk-container-id-10 div.sk-text-repr-fallback {display: none;}</style><div id=\"sk-container-id-10\" class=\"sk-top-container\"><div class=\"sk-text-repr-fallback\"><pre>RandomForestClassifier(random_state=20)</pre><b>In a Jupyter environment, please rerun this cell to show the HTML representation or trust the notebook. <br />On GitHub, the HTML representation is unable to render, please try loading this page with nbviewer.org.</b></div><div class=\"sk-container\" hidden><div class=\"sk-item\"><div class=\"sk-estimator sk-toggleable\"><input class=\"sk-toggleable__control sk-hidden--visually\" id=\"sk-estimator-id-10\" type=\"checkbox\" checked><label for=\"sk-estimator-id-10\" class=\"sk-toggleable__label sk-toggleable__label-arrow\">RandomForestClassifier</label><div class=\"sk-toggleable__content\"><pre>RandomForestClassifier(random_state=20)</pre></div></div></div></div></div>"
      ],
      "text/plain": [
       "RandomForestClassifier(random_state=20)"
      ]
     },
     "execution_count": 151,
     "metadata": {},
     "output_type": "execute_result"
    }
   ],
   "source": [
    "rf = RandomForestClassifier(random_state = 20)\n",
    "rf.fit(X_train, y_train)"
   ]
  },
  {
   "cell_type": "code",
   "execution_count": 165,
   "id": "12617d9f",
   "metadata": {},
   "outputs": [
    {
     "name": "stdout",
     "output_type": "stream",
     "text": [
      "Accuracy on Test Set: 0.8634490966796875\n"
     ]
    }
   ],
   "source": [
    "y_predict = rf.predict(X_test)\n",
    "accuracy = accuracy_score(y_test, y_predict)\n",
    "print(f\"Accuracy on Test Set: {accuracy}\")"
   ]
  },
  {
   "cell_type": "code",
   "execution_count": 153,
   "id": "b2c4a606",
   "metadata": {},
   "outputs": [
    {
     "name": "stdout",
     "output_type": "stream",
     "text": [
      "              precision    recall  f1-score   support\n",
      "\n",
      "          he       0.00      0.00      0.00       617\n",
      "          fp       0.96      1.00      0.98     13110\n",
      "          fc       1.00      0.79      0.88      1300\n",
      "          wr       0.91      0.71      0.80      6593\n",
      "          gs       0.75      0.00      0.00      3297\n",
      "          dp       0.86      0.79      0.82      3298\n",
      "          fh       0.00      0.00      0.00      1934\n",
      "\n",
      "   micro avg       0.94      0.71      0.81     30149\n",
      "   macro avg       0.64      0.47      0.50     30149\n",
      "weighted avg       0.84      0.71      0.73     30149\n",
      " samples avg       0.32      0.29      0.30     30149\n",
      "\n"
     ]
    },
    {
     "name": "stderr",
     "output_type": "stream",
     "text": [
      "C:\\Users\\Work\\anaconda3\\lib\\site-packages\\sklearn\\metrics\\_classification.py:1344: UndefinedMetricWarning: Precision and F-score are ill-defined and being set to 0.0 in labels with no predicted samples. Use `zero_division` parameter to control this behavior.\n",
      "  _warn_prf(average, modifier, msg_start, len(result))\n",
      "C:\\Users\\Work\\anaconda3\\lib\\site-packages\\sklearn\\metrics\\_classification.py:1344: UndefinedMetricWarning: Precision and F-score are ill-defined and being set to 0.0 in samples with no predicted labels. Use `zero_division` parameter to control this behavior.\n",
      "  _warn_prf(average, modifier, msg_start, len(result))\n",
      "C:\\Users\\Work\\anaconda3\\lib\\site-packages\\sklearn\\metrics\\_classification.py:1344: UndefinedMetricWarning: Recall and F-score are ill-defined and being set to 0.0 in samples with no true labels. Use `zero_division` parameter to control this behavior.\n",
      "  _warn_prf(average, modifier, msg_start, len(result))\n"
     ]
    }
   ],
   "source": [
    "print(classification_report(y_test, y_predict,target_names=target_arr))"
   ]
  },
  {
   "cell_type": "markdown",
   "id": "e115e926",
   "metadata": {},
   "source": [
    "### note: The warning appears due to too few 'he'=1 values in y_predict(Because we have a few of them too in df). "
   ]
  },
  {
   "cell_type": "markdown",
   "id": "f40863e9",
   "metadata": {},
   "source": [
    "# the bad result on 'he' Because we have few '1' in 'he'\n"
   ]
  },
  {
   "cell_type": "code",
   "execution_count": 154,
   "id": "dbcf32aa",
   "metadata": {},
   "outputs": [
    {
     "data": {
      "text/plain": [
       "0    0.990438\n",
       "1    0.009562\n",
       "Name: he, dtype: float64"
      ]
     },
     "execution_count": 154,
     "metadata": {},
     "output_type": "execute_result"
    }
   ],
   "source": [
    "# y_test['he'].value_counts()\n",
    "y_train['he'].value_counts(normalize=True)\n",
    "# y_predict[:,0].sum()"
   ]
  },
  {
   "cell_type": "code",
   "execution_count": 157,
   "id": "6b555553",
   "metadata": {},
   "outputs": [],
   "source": [
    "\n",
    "# Number of trees in random forest\n",
    "n_estimators = [int(x) for x in np.linspace(start = 200, stop = 2000, num = 10)]\n",
    "# Number of features to consider at every split\n",
    "max_features = ['auto', 'sqrt']\n",
    "# Maximum number of levels in tree\n",
    "max_depth = [int(x) for x in np.linspace(10, 110, num = 11)]\n",
    "max_depth.append(None)\n",
    "# Minimum number of samples required to split a node\n",
    "min_samples_split = [2, 5, 10]\n",
    "# Minimum number of samples required at each leaf node\n",
    "min_samples_leaf = [1, 2, 4]\n",
    "# Method of selecting samples for training each tree\n",
    "bootstrap = [True, False]\n",
    "# Create the random grid\n",
    "random_grid = {'n_estimators': n_estimators,\n",
    "               'max_features': max_features,\n",
    "               'max_depth': max_depth,\n",
    "               'min_samples_split': min_samples_split,\n",
    "               'min_samples_leaf': min_samples_leaf,\n",
    "               'bootstrap': bootstrap}"
   ]
  },
  {
   "cell_type": "code",
   "execution_count": 158,
   "id": "3e88b3de",
   "metadata": {},
   "outputs": [],
   "source": [
    "# # Use the random grid to search for best hyperparameters\n",
    "# # First create the base model to tune\n",
    "# rf = RandomForestClassifier()\n",
    "# # Random search of parameters, using 3 fold cross validation, \n",
    "# # search across 100 different combinations, and use all available cores\n",
    "# rf_random = RandomizedSearchCV(estimator = rf, param_distributions = random_grid, n_iter = 100, cv = 3, verbose=2, random_state=42, n_jobs = -1)\n",
    "# # Fit the random search model\n",
    "# rf_random.fit(X_train, y_test)"
   ]
  },
  {
   "cell_type": "markdown",
   "id": "97961109",
   "metadata": {},
   "source": [
    "# hyperparameter tuning"
   ]
  },
  {
   "cell_type": "code",
   "execution_count": 159,
   "id": "76cf88ac",
   "metadata": {},
   "outputs": [
    {
     "name": "stdout",
     "output_type": "stream",
     "text": [
      "Best Hyperparameters: {'n_estimators': 115, 'min_samples_split': 4, 'min_samples_leaf': 5, 'max_features': 'sqrt', 'max_depth': 18, 'criterion': 'entropy'}\n",
      "Accuracy on Test Set: 0.8633880615234375\n"
     ]
    }
   ],
   "source": [
    "\n",
    "# Create a RandomForestClassifier\n",
    "rf_classifier = RandomForestClassifier()\n",
    "\n",
    "# Define the hyperparameter grid to search over\n",
    "param_dist = {\n",
    "    'n_estimators': [90, 100, 115, 130],\n",
    "    'criterion': ['gini', 'entropy'],\n",
    "    'max_depth': range(2,20,1),\n",
    "    'min_samples_split': range(2,10,1),\n",
    "    'min_samples_leaf': range(1,10,1),\n",
    "    'max_features': ['auto', 'sqrt', 'log2'],\n",
    "}\n",
    "\n",
    "# Use accuracy as the scoring metric\n",
    "scorer = make_scorer(accuracy_score)\n",
    "\n",
    "# Create the RandomizedSearchCV object\n",
    "random_search = RandomizedSearchCV(\n",
    "    rf_classifier,\n",
    "    param_distributions=param_dist,\n",
    "    n_iter=10,  # Number of random combinations to try\n",
    "    scoring=scorer,\n",
    "    cv=5,  # Number of cross-validation folds\n",
    "    n_jobs=-1,  # Use all available CPUs\n",
    "    random_state=42\n",
    ")\n",
    "\n",
    "# Fit the RandomizedSearchCV object to the data\n",
    "random_search.fit(X_train, y_train)\n",
    "\n",
    "# Get the best parameters and best estimator\n",
    "best_params = random_search.best_params_\n",
    "best_estimator = random_search.best_estimator_\n",
    "\n",
    "# Make predictions on the test set using the best estimator\n",
    "y_pred = best_estimator.predict(X_test)\n",
    "\n",
    "# Evaluate the accuracy\n",
    "accuracy = accuracy_score(y_test, y_pred)\n",
    "print(f\"Best Hyperparameters: {best_params}\\n\")\n",
    "print(f\"Accuracy on Test Set: {accuracy}\")\n"
   ]
  },
  {
   "cell_type": "markdown",
   "id": "970423b1",
   "metadata": {},
   "source": [
    "# let's try oversampling(try fix the unbalanced data)"
   ]
  },
  {
   "cell_type": "code",
   "execution_count": 160,
   "id": "76d0d3c0",
   "metadata": {},
   "outputs": [],
   "source": [
    "# #Import RandomOverSampling\n",
    "# from imblearn.over_sampling import RandomOverSampler\n",
    "\n",
    "# over_sampler = RandomOverSampler()\n",
    "\n",
    "# X_train_over, y_train_over = over_sampler.fit_resample(X_train, y_train)\n",
    "\n",
    "# print('Original X_train class balance')\n",
    "# print(y_train.value_counts())\n",
    "# print('\\nOversampled X_train_over class balance')\n",
    "# y_train_over = pd.Series(y_train_over)\n",
    "# print(y_train_over.value_counts())\n",
    "\n"
   ]
  },
  {
   "cell_type": "code",
   "execution_count": 161,
   "id": "8e1d8c6a",
   "metadata": {},
   "outputs": [],
   "source": [
    "class_counts = df['he'].value_counts()\n",
    "class_weights = len(class_counts)/class_counts\n",
    "resampled_df = df.sample(\n",
    "    n=class_counts.max()*len(class_counts),\n",
    "    weights=df['he'].map(class_weights), \n",
    "    replace=True)"
   ]
  },
  {
   "cell_type": "code",
   "execution_count": 162,
   "id": "9b21b540",
   "metadata": {},
   "outputs": [
    {
     "data": {
      "text/plain": [
       "0    0.501431\n",
       "1    0.498569\n",
       "Name: he, dtype: float64"
      ]
     },
     "execution_count": 162,
     "metadata": {},
     "output_type": "execute_result"
    }
   ],
   "source": [
    "resampled_df['he'].value_counts(normalize=True)"
   ]
  },
  {
   "cell_type": "code",
   "execution_count": 166,
   "id": "9ddb1a1c",
   "metadata": {},
   "outputs": [
    {
     "name": "stdout",
     "output_type": "stream",
     "text": [
      "Accuracy on Test Set: 0.43587472270150357\n"
     ]
    }
   ],
   "source": [
    "\n",
    "target_arr = ['he', 'fp', 'fc', 'wr', 'gs', 'dp', 'fh']\n",
    "\n",
    "y_re = resampled_df[target_arr]\n",
    "X_re = resampled_df.drop(target_arr , axis=1)\n",
    "X_train_re, X_test_re, y_train_re, y_test_re = train_test_split(X_re, y_re, random_state=20)\n",
    "\n",
    "rf_re = RandomForestClassifier(random_state = 20)\n",
    "rf_re.fit(X_train_re, y_train_re)\n",
    "\n",
    "y_predict_re = rf.predict(X_test_re)\n",
    "accuracy = accuracy_score(y_test_re, y_predict_re)\n",
    "print(f\"Accuracy on Test Set: {accuracy}\")"
   ]
  },
  {
   "cell_type": "markdown",
   "id": "626f9e74",
   "metadata": {},
   "source": [
    "# I prefer to use 'best_estimator', Because it has high accuracy witout oversampling"
   ]
  },
  {
   "cell_type": "markdown",
   "id": "acb053eb",
   "metadata": {},
   "source": [
    "# If we look at 'he' we find that when its value is equal to \"1\" then each of the (pw, cb, gw, ls, vp, lo, me, ta) must be equal to \"0\""
   ]
  },
  {
   "cell_type": "code",
   "execution_count": 156,
   "id": "5dcde6d9",
   "metadata": {},
   "outputs": [
    {
     "name": "stdout",
     "output_type": "stream",
     "text": [
      "pw\n",
      "0\n",
      "********************\n",
      "cb\n",
      "0\n",
      "********************\n",
      "gw\n",
      "0\n",
      "********************\n",
      "ls\n",
      "0\n",
      "********************\n",
      "vp\n",
      "0\n",
      "********************\n",
      "lo\n",
      "0\n",
      "********************\n",
      "wv\n",
      "1769\n",
      "********************\n",
      "hp\n",
      "2139\n",
      "********************\n",
      "me\n",
      "0\n",
      "********************\n",
      "ta\n",
      "0\n",
      "********************\n",
      "number of the non-target columns that affected by 'he'=  8\n"
     ]
    }
   ],
   "source": [
    "count = 0\n",
    "df_columns = df.columns\n",
    "for col in df_columns:\n",
    "    if col not in target_arr:\n",
    "        print(col)\n",
    "        print(df[df['he'] == 1][col].sum())\n",
    "        if (df[df['he'] == 1][col].sum()) == 0:\n",
    "            count += 1\n",
    "        print('*'*20)\n",
    "    \n",
    "print(\"number of the non-target columns that affected by 'he'= \", count)"
   ]
  },
  {
   "cell_type": "markdown",
   "id": "11da850e",
   "metadata": {},
   "source": [
    "# Built-In Feature Importance (Feature Importance)."
   ]
  },
  {
   "cell_type": "code",
   "execution_count": 204,
   "id": "38c6b61d",
   "metadata": {},
   "outputs": [],
   "source": [
    "# importances = pd.Series(best_estimator.feature_importances_, index= col_other,\n",
    "#                        name='Feature Importance')\n",
    "# importances"
   ]
  },
  {
   "cell_type": "code",
   "execution_count": 201,
   "id": "221b34c6",
   "metadata": {},
   "outputs": [],
   "source": [
    "def get_importances(model, feature_names=None,name='Feature Importance',\n",
    "                   sort=False, ascending=True):\n",
    "    \n",
    "    ## checking for feature names\n",
    "    if feature_names == None:\n",
    "        feature_names = model.feature_names_in_\n",
    "        \n",
    "    ## Saving the feature importances\n",
    "    importances = pd.Series(model.feature_importances_, index= feature_names,\n",
    "                           name=name)\n",
    "    \n",
    "    # sort importances\n",
    "    if sort == True:\n",
    "        importances = importances.sort_values(ascending=ascending)\n",
    "        \n",
    "    return importances\n",
    "\n",
    "def plot_importance(importances, top_n=None,  figsize=(8,6)):\n",
    "    # sorting with asc=false for correct order of bars\n",
    "    if top_n==None:\n",
    "        ## sort all features and set title\n",
    "        plot_vals = importances.sort_values()\n",
    "        title = \"All Features - Ranked by Importance\"\n",
    "    else:\n",
    "        ## sort features and keep top_n and set title\n",
    "        plot_vals = importances.sort_values().tail(top_n)\n",
    "        title = f\"Top {top_n} Most Important Features\"\n",
    "    ## plotting top N importances\n",
    "    ax = plot_vals.plot(kind='barh', figsize=figsize)\n",
    "    ax.set(xlabel='Importance',\n",
    "            ylabel='Feature Names',\n",
    "            title=title)\n",
    "    ## return ax in case want to continue to update/modify figure\n",
    "    return ax"
   ]
  },
  {
   "cell_type": "code",
   "execution_count": 203,
   "id": "0434ae77",
   "metadata": {},
   "outputs": [],
   "source": [
    "importances = get_importances(best_estimator,sort=True,ascending=False)"
   ]
  },
  {
   "cell_type": "code",
   "execution_count": 202,
   "id": "66a55576",
   "metadata": {},
   "outputs": [
    {
     "data": {
      "image/png": "[encoded data removed]",
      "text/plain": [
       "<Figure size 800x600 with 1 Axes>"
      ]
     },
     "metadata": {},
     "output_type": "display_data"
    }
   ],
   "source": [
    "plot_importance(importances, top_n=15);"
   ]
  },
  {
   "cell_type": "markdown",
   "id": "8dc6e8a1",
   "metadata": {},
   "source": [
    "# Permutation Importance"
   ]
  },
  {
   "cell_type": "code",
   "execution_count": 205,
   "id": "cbe646df",
   "metadata": {},
   "outputs": [
    {
     "data": {
      "text/plain": [
       "pw    0.124335\n",
       "gw    0.102133\n",
       "cb    0.048721\n",
       "wv    0.045901\n",
       "hp    0.028656\n",
       "vp    0.011819\n",
       "lo    0.009152\n",
       "me    0.002267\n",
       "ls    0.000000\n",
       "ta   -0.001233\n",
       "Name: permutation importance, dtype: float64"
      ]
     },
     "execution_count": 205,
     "metadata": {},
     "output_type": "execute_result"
    }
   ],
   "source": [
    "from sklearn.inspection import permutation_importance\n",
    "# Permutation importance takes a fit model and the test data.\n",
    "r = permutation_importance(best_estimator, X_test, y_test,n_repeats =5, random_state = 20)\n",
    "\n",
    "## can make the mean importances into a series\n",
    "permutation_importances = pd.Series(r['importances_mean'],index=X_test.columns,\n",
    "                           name = 'permutation importance')\n",
    "permutation_importances = permutation_importances.sort_values(ascending=False)\n",
    "permutation_importances"
   ]
  },
  {
   "cell_type": "code",
   "execution_count": 206,
   "id": "7a4efbd7",
   "metadata": {},
   "outputs": [],
   "source": [
    "def get_color_dict(importances, color_rest='#006ba4' , color_top='green',\n",
    "                    top_n=7):\n",
    "    ## color -coding top 5 bars\n",
    "    highlight_feats = importances.sort_values(ascending=True).tail(top_n).index\n",
    "    colors_dict = {col: color_top if col in highlight_feats else color_rest for col in importances.index}\n",
    "    return colors_dict"
   ]
  },
  {
   "cell_type": "code",
   "execution_count": 207,
   "id": "b2b1d761",
   "metadata": {},
   "outputs": [
    {
     "data": {
      "text/plain": [
       "{'gw': 'green',\n",
       " 'pw': 'green',\n",
       " 'cb': 'green',\n",
       " 'lo': 'green',\n",
       " 'wv': 'green',\n",
       " 'me': 'green',\n",
       " 'hp': 'green',\n",
       " 'vp': '#006ba4',\n",
       " 'ta': '#006ba4',\n",
       " 'ls': '#006ba4'}"
      ]
     },
     "execution_count": 207,
     "metadata": {},
     "output_type": "execute_result"
    }
   ],
   "source": [
    "colors_top7 = get_color_dict(importances, top_n=7)\n",
    "colors_top7"
   ]
  },
  {
   "cell_type": "code",
   "execution_count": 208,
   "id": "fe5ef61b",
   "metadata": {},
   "outputs": [],
   "source": [
    "def plot_importance_color(importances, top_n=None,  figsize=(8,6), \n",
    "                          color_dict=None):\n",
    "    \n",
    "    # sorting with asc=false for correct order of bars\n",
    "    if top_n==None:\n",
    "        ## sort all features and set title\n",
    "        plot_vals = importances.sort_values()\n",
    "        title = \"All Features - Ranked by Importance\"\n",
    "    else:\n",
    "        ## sort features and keep top_n and set title\n",
    "        plot_vals = importances.sort_values().tail(top_n)\n",
    "        title = f\"Top {top_n} Most Important Features\"\n",
    "    ## create plot with colors, if provided\n",
    "    if color_dict is not None:\n",
    "        ## Getting color list and saving to plot_kws\n",
    "        colors = plot_vals.index.map(color_dict)\n",
    "        ax = plot_vals.plot(kind='barh', figsize=figsize, color=colors)\n",
    "        \n",
    "    else:\n",
    "        ## create plot without colors, if not provided\n",
    "        ax = plot_vals.plot(kind='barh', figsize=figsize)\n",
    "        \n",
    "    # set titles and axis labels\n",
    "    ax.set(xlabel='Importance', \n",
    "           ylabel='Feature Names', \n",
    "           title=title)\n",
    "    \n",
    "    ## return ax in case want to continue to update/modify figure\n",
    "    return ax\n"
   ]
  },
  {
   "cell_type": "code",
   "execution_count": 209,
   "id": "18607d87",
   "metadata": {},
   "outputs": [
    {
     "data": {
      "image/png": "[encoded data removed]",
      "text/plain": [
       "<Figure size 800x600 with 1 Axes>"
      ]
     },
     "metadata": {},
     "output_type": "display_data"
    }
   ],
   "source": [
    "plot_importance_color(importances, color_dict=colors_top7,top_n=20);"
   ]
  },
  {
   "cell_type": "markdown",
   "id": "68bd7408",
   "metadata": {},
   "source": [
    "# When we look at the importance graph, we find that all the features are close in terms of importance, but the most influential of them (with a slight difference) are 'gw'"
   ]
  },
  {
   "cell_type": "markdown",
   "id": "618ab6fa",
   "metadata": {},
   "source": [
    "# Green lines mean that the ranking is consistent with Built-In Feature Importance (previous figure)."
   ]
  },
  {
   "cell_type": "markdown",
   "id": "1a205d32",
   "metadata": {},
   "source": [
    "# To obtain a higher value of accuracy, more information must be provided about 'he'"
   ]
  }
 ],
 "metadata": {
  "kernelspec": {
   "display_name": "Python 3 (ipykernel)",
   "language": "python",
   "name": "python3"
  },
  "language_info": {
   "codemirror_mode": {
    "name": "ipython",
    "version": 3
   },
   "file_extension": ".py",
   "mimetype": "text/x-python",
   "name": "python",
   "nbconvert_exporter": "python",
   "pygments_lexer": "ipython3",
   "version": "3.10.9"
  }
 },
 "nbformat": 4,
 "nbformat_minor": 5
}
