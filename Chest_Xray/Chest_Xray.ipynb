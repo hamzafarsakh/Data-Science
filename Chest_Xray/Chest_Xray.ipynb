{
  "cells": [
    {
      "cell_type": "code",
      "execution_count": null,
      "id": "1e964c21",
      "metadata": {
        "id": "1e964c21"
      },
      "outputs": [],
      "source": [
        "import numpy as np\n",
        "import tensorflow as tf\n",
        "# Set the seed for NumPy\n",
        "np.random.seed(42)\n",
        "# Set the seed for TensorFlow\n",
        "tf.random.set_seed(42)\n",
        "\n",
        "import os, glob\n",
        "import matplotlib.pyplot as plt\n",
        "import numpy as np\n",
        "import tensorflow as tf\n",
        "from tensorflow.keras.utils import load_img, img_to_array, array_to_img\n",
        "from tensorflow.keras import layers, models\n",
        "import visualkeras as vk"
      ]
    },
    {
      "cell_type": "code",
      "execution_count": null,
      "id": "8c1da405",
      "metadata": {
        "id": "8c1da405"
      },
      "outputs": [],
      "source": [
        "def get_true_pred_labels(model,ds):\n",
        "    \"\"\"Gets the labels and predicted probabilities from a Tensorflow model and Dataset object.\n",
        "    Adapted from source: https://stackoverflow.com/questions/66386561/keras-classification-report-accuracy-is-different-between-model-predict-accurac\n",
        "    \"\"\"\n",
        "    y_true = []\n",
        "    y_pred_probs = []\n",
        "\n",
        "    # Loop through the dataset as a numpy iterator\n",
        "    for images, labels in ds.as_numpy_iterator():\n",
        "\n",
        "        # Get prediction with batch_size=1\n",
        "        y_probs = model.predict(images, batch_size=1, verbose=0)\n",
        "        # Combine previous labels/preds with new labels/preds\n",
        "        y_true.extend(labels)\n",
        "        y_pred_probs.extend(y_probs)\n",
        "    ## Convert the lists to arrays\n",
        "    y_true = np.array(y_true)\n",
        "    y_pred_probs = np.array(y_pred_probs)\n",
        "\n",
        "    return y_true, y_pred_probs\n",
        "\n",
        "def convert_y_to_sklearn_classes(y, verbose=False):\n",
        "    # If already one-dimension\n",
        "    if np.ndim(y)==1:\n",
        "        if verbose:\n",
        "            print(\"- y is 1D, using it as-is.\")\n",
        "        return y\n",
        "\n",
        "    # If 2 dimensions with more than 1 column:\n",
        "    elif y.shape[1]>1:\n",
        "        if verbose:\n",
        "            print(\"- y is 2D with >1 column. Using argmax for metrics.\")\n",
        "        return np.argmax(y, axis=1)\n",
        "\n",
        "    else:\n",
        "        if verbose:\n",
        "            print(\"y is 2D with 1 column. Using round for metrics.\")\n",
        "        return np.round(y).flatten().astype(int)\n",
        "\n",
        "## PREVIOUS CLASSIFICATION_METRICS FUNCTION FROM INTRO TO ML\n",
        "from sklearn.metrics import classification_report, ConfusionMatrixDisplay\n",
        "import matplotlib.pyplot as plt\n",
        "import numpy as np\n",
        "\n",
        "def classification_metrics(y_true, y_pred, label='',\n",
        "                           output_dict=False, figsize=(8,4),\n",
        "                           normalize='true', cmap='Blues',\n",
        "                           colorbar=False,values_format=\".2f\"):\n",
        "    \"\"\"Modified version of classification metrics function from Intro to Machine Learning.\n",
        "    Updates:\n",
        "    - Reversed raw counts confusion matrix cmap  (so darker==more).\n",
        "    - Added arg for normalized confusion matrix values_format\n",
        "    \"\"\"\n",
        "    # Get the classification report\n",
        "    report = classification_report(y_true, y_pred)\n",
        "\n",
        "    ## Print header and report\n",
        "    header = \"-\"*70\n",
        "    print(header, f\" Classification Metrics: {label}\", header, sep='\\n')\n",
        "    print(report)\n",
        "\n",
        "    ## CONFUSION MATRICES SUBPLOTS\n",
        "    fig, axes = plt.subplots(ncols=2, figsize=figsize)\n",
        "\n",
        "    # Create a confusion matrix  of raw counts (left subplot)\n",
        "    ConfusionMatrixDisplay.from_predictions(y_true, y_pred,\n",
        "                                            normalize=None,\n",
        "                                            cmap='gist_gray_r',# Updated cmap\n",
        "                                            values_format=\"d\",\n",
        "                                            colorbar=colorbar,\n",
        "                                            ax = axes[0]);\n",
        "    axes[0].set_title(\"Raw Counts\")\n",
        "\n",
        "\n",
        "    # Create a confusion matrix with the data with normalize argument\n",
        "    ConfusionMatrixDisplay.from_predictions(y_true, y_pred,\n",
        "                                            normalize=normalize,\n",
        "                                            cmap=cmap,\n",
        "                                            values_format=values_format, #New arg\n",
        "                                            colorbar=colorbar,\n",
        "                                            ax = axes[1]);\n",
        "    axes[1].set_title(\"Normalized Confusion Matrix\")\n",
        "\n",
        "    # Adjust layout and show figure\n",
        "    fig.tight_layout()\n",
        "    plt.show()\n",
        "\n",
        "    # Return dictionary of classification_report\n",
        "    if output_dict==True:\n",
        "        report_dict = classification_report(y_true, y_pred, output_dict=True)\n",
        "        return report_dict\n",
        "\n",
        "\n",
        "\n",
        "## PLOT_HISTORY FUNCTION FROM WEEK 3\n",
        "def plot_history(history,figsize=(6,8)):\n",
        "    # Get a unique list of metrics\n",
        "    all_metrics = np.unique([k.replace('val_','') for k in history.history.keys()])\n",
        "\n",
        "    # Plot each metric\n",
        "    n_plots = len(all_metrics)\n",
        "    fig, axes = plt.subplots(nrows=n_plots, figsize=figsize)\n",
        "    axes = axes.flatten()\n",
        "\n",
        "    # Loop through metric names add get an index for the axes\n",
        "    for i, metric in enumerate(all_metrics):\n",
        "\n",
        "        # Get the epochs and metric values\n",
        "        epochs = history.epoch\n",
        "        score = history.history[metric]\n",
        "\n",
        "        # Plot the training results\n",
        "        axes[i].plot(epochs, score, label=metric, marker='.')\n",
        "        # Plot val results (if they exist)\n",
        "        try:\n",
        "            val_score = history.history[f\"val_{metric}\"]\n",
        "            axes[i].plot(epochs, val_score, label=f\"val_{metric}\",marker='.')\n",
        "        except:\n",
        "            pass\n",
        "\n",
        "        finally:\n",
        "            axes[i].legend()\n",
        "            axes[i].set(title=metric, xlabel=\"Epoch\",ylabel=metric)\n",
        "\n",
        "    # Adjust subplots and show\n",
        "    fig.tight_layout()\n",
        "    plt.show()\n",
        "\n",
        "def evaluate_classification_network(model,\n",
        "                                    X_train=None, y_train=None,\n",
        "                                    X_test=None, y_test=None,\n",
        "                                    history=None, history_figsize=(6,6),\n",
        "                                    figsize=(6,4), normalize='true',\n",
        "                                    output_dict = False,\n",
        "                                    cmap_train='Blues',\n",
        "                                    cmap_test=\"Reds\",\n",
        "                                    values_format=\".2f\",\n",
        "                                    colorbar=False):\n",
        "    \"\"\"Evaluates a neural network classification task using either\n",
        "    separate X and y arrays or a tensorflow Dataset\n",
        "\n",
        "    Data Args:\n",
        "        X_train (array, or Dataset)\n",
        "        y_train (array, or None if using a Dataset\n",
        "        X_test (array, or Dataset)\n",
        "        y_test (array, or None if using a Dataset)\n",
        "        history (history object)\n",
        "        \"\"\"\n",
        "    # Plot history, if provided\n",
        "    if history is not None:\n",
        "        plot_history(history, figsize=history_figsize)\n",
        "    ## Adding a Print Header\n",
        "    print(\"\\n\"+'='*80)\n",
        "    print('- Evaluating Network...')\n",
        "    print('='*80)\n",
        "    ## TRAINING DATA EVALUATION\n",
        "    # check if X_train was provided\n",
        "    if X_train is not None:\n",
        "        ## Check if X_train is a dataset\n",
        "        if hasattr(X_train,'map'):\n",
        "            # If it IS a Datset:\n",
        "            # extract y_train and y_train_pred with helper function\n",
        "            y_train, y_train_pred = get_true_pred_labels(model, X_train)\n",
        "        else:\n",
        "            # Get predictions for training data\n",
        "            y_train_pred = model.predict(X_train)\n",
        "        ## Pass both y-vars through helper compatibility function\n",
        "        y_train = convert_y_to_sklearn_classes(y_train)\n",
        "        y_train_pred = convert_y_to_sklearn_classes(y_train_pred)\n",
        "\n",
        "        # Call the helper function to obtain regression metrics for training data\n",
        "        results_train = classification_metrics(y_train, y_train_pred,\n",
        "                                         output_dict=True, figsize=figsize,\n",
        "                                             colorbar=colorbar, cmap=cmap_train,\n",
        "                                               values_format=values_format,\n",
        "                                         label='Training Data')\n",
        "\n",
        "        ## Run model.evaluate\n",
        "        print(\"\\n- Evaluating Training Data:\")\n",
        "        print(model.evaluate(X_train, return_dict=True))\n",
        "\n",
        "    # If no X_train, then save empty list for results_train\n",
        "    else:\n",
        "        results_train = []\n",
        "    ## TEST DATA EVALUATION\n",
        "    # check if X_test was provided\n",
        "    if X_test is not None:\n",
        "        ## Check if X_train is a dataset\n",
        "        if hasattr(X_test,'map'):\n",
        "            # If it IS a Datset:\n",
        "            # extract y_train and y_train_pred with helper function\n",
        "            y_test, y_test_pred = get_true_pred_labels(model, X_test)\n",
        "        else:\n",
        "            # Get predictions for training data\n",
        "            y_test_pred = model.predict(X_test)\n",
        "        ## Pass both y-vars through helper compatibility function\n",
        "        y_test = convert_y_to_sklearn_classes(y_test)\n",
        "        y_test_pred = convert_y_to_sklearn_classes(y_test_pred)\n",
        "\n",
        "        # Call the helper function to obtain regression metrics for training data\n",
        "        results_test = classification_metrics(y_test, y_test_pred,\n",
        "                                         output_dict=True, figsize=figsize,\n",
        "                                             colorbar=colorbar, cmap=cmap_test,\n",
        "                                              values_format=values_format,\n",
        "                                         label='Test Data')\n",
        "\n",
        "        ## Run model.evaluate\n",
        "        print(\"\\n- Evaluating Test Data:\")\n",
        "        print(model.evaluate(X_test, return_dict=True))\n",
        "\n",
        "    # If no X_test, then save empty list for results_test\n",
        "    else:\n",
        "        results_test = []\n",
        "\n",
        "    # Store results in a dictionary\n",
        "    results_dict = {'train':results_train,\n",
        "                    'test': results_test}\n",
        "    if output_dict == True:\n",
        "        return results_dict\n",
        "\n"
      ]
    },
    {
      "cell_type": "code",
      "execution_count": null,
      "id": "3f1dbc3f",
      "metadata": {
        "id": "3f1dbc3f",
        "outputId": "cba9f25d-d006-45e3-a2de-132d07d2df68"
      },
      "outputs": [
        {
          "data": {
            "text/plain": [
              "['covid', 'normal', 'pneumonia']"
            ]
          },
          "execution_count": 3,
          "metadata": {},
          "output_type": "execute_result"
        }
      ],
      "source": [
        "# Checking the contents of folder\n",
        "data_dir = r'C:/Users/Work/Desktop/Python Data Science/Jupyter Notebook/Chest_Xray/Data/xrays'\n",
        "\n",
        "# Gettting the list of folders from data dir\n",
        "subfolders = os.listdir(data_dir)\n",
        "subfolders\n",
        "\n"
      ]
    },
    {
      "cell_type": "code",
      "execution_count": null,
      "id": "bea77449",
      "metadata": {
        "id": "bea77449",
        "outputId": "3b9d7cc3-3f42-4d57-ca9f-4315aa878512"
      },
      "outputs": [
        {
          "data": {
            "text/plain": [
              "6939"
            ]
          },
          "execution_count": 5,
          "metadata": {},
          "output_type": "execute_result"
        }
      ],
      "source": [
        "# Getting list of img file paths (no folders)\n",
        "img_files = glob.glob(data_dir+\"**/*/*\")\n",
        "len(img_files)\n",
        "\n"
      ]
    },
    {
      "cell_type": "code",
      "execution_count": null,
      "id": "ea2c68a7",
      "metadata": {
        "id": "ea2c68a7",
        "outputId": "f477f858-6ad5-4b71-830b-4fa3acb75d0a"
      },
      "outputs": [
        {
          "name": "stdout",
          "output_type": "stream",
          "text": [
            "Found 6902 files belonging to 3 classes.\n"
          ]
        },
        {
          "data": {
            "text/plain": [
              "<_BatchDataset element_spec=(TensorSpec(shape=(None, 96, 96, 3), dtype=tf.float32, name=None), TensorSpec(shape=(None, 3), dtype=tf.float32, name=None))>"
            ]
          },
          "execution_count": 6,
          "metadata": {},
          "output_type": "execute_result"
        }
      ],
      "source": [
        "# Saving image params as vars for reuse\n",
        "batch_size = 32\n",
        "img_height = 96\n",
        "img_width = 96\n",
        "\n",
        "# make the dataset from the main folder of images\n",
        "ds = tf.keras.utils.image_dataset_from_directory(\n",
        "  data_dir,\n",
        "    shuffle=True,\n",
        "    label_mode='categorical',\n",
        "  seed=123,\n",
        "  image_size=(img_height, img_width),\n",
        "  batch_size=batch_size)\n",
        "ds"
      ]
    },
    {
      "cell_type": "code",
      "execution_count": null,
      "id": "fb4ca484",
      "metadata": {
        "id": "fb4ca484",
        "outputId": "bd195ab7-c69b-4b62-ee8a-1b5bf7f4f83f"
      },
      "outputs": [
        {
          "name": "stdout",
          "output_type": "stream",
          "text": [
            "Use 151 batches as training data\n",
            "Use 43 batches as validation data\n",
            "The remaining 22 batches will be used as test data.\n"
          ]
        }
      ],
      "source": [
        "# taking a sample batch to see batch shape\n",
        "example_batch_imgs,example_batch_y= ds.take(1).get_single_element()\n",
        "\n",
        "\n",
        "# Determine number of batches in dataset\n",
        "ds_size = len(ds)\n",
        "\n",
        "# checking the class names\n",
        "class_names = ds.class_names\n",
        "\n",
        "# Saving # of classes for reuse\n",
        "num_classes = len(class_names)\n",
        "\n",
        "# Saving dictionary of integer:string labels\n",
        "class_dict = dict(zip(range(num_classes), class_names))\n",
        "\n",
        "# Individual image shape\n",
        "input_shape = example_batch_imgs[0].shape\n",
        "\n",
        "# Demo Unpacking shape\n",
        "input_shape = [*input_shape]\n",
        "\n",
        "\n",
        "# Set the ratio of the train, validation, test split\n",
        "split_train = 0.7\n",
        "split_val = 0.2\n",
        "split_test = .1\n",
        "# Calculate the number of batches for training and validation data\n",
        "n_train_batches =  int(ds_size * split_train)\n",
        "n_val_batches = int(ds_size * split_val)\n",
        "print(f\"Use {n_train_batches} batches as training data\")\n",
        "print(f\"Use {n_val_batches} batches as validation data\")\n",
        "print(f\"The remaining {len(ds)- (n_train_batches+n_val_batches)} batches will be used as test data.\")\n",
        "\n",
        "\n"
      ]
    },
    {
      "cell_type": "code",
      "execution_count": null,
      "id": "13c44fe7",
      "metadata": {
        "id": "13c44fe7"
      },
      "outputs": [],
      "source": [
        "# Use .take to slice out the number of batches\n",
        "train_ds = ds.take(n_train_batches)\n",
        "# Confirm the length of the training set\n",
        "\n",
        "\n",
        "# Skipover the training batches\n",
        "val_ds = ds.skip(n_train_batches)\n",
        "# Take the correct number of validation batches\n",
        "val_ds = val_ds.take(n_val_batches)\n",
        "# Confirm the length of the validation set\n",
        "\n",
        "\n",
        "# Skip over all of the training + validation batches\n",
        "test_ds = ds.skip(n_train_batches + n_val_batches)\n",
        "# Confirm the length of the testing data\n"
      ]
    },
    {
      "cell_type": "code",
      "execution_count": null,
      "id": "4b802c3a",
      "metadata": {
        "id": "4b802c3a"
      },
      "outputs": [],
      "source": [
        "# Download Inception Base and prevent it from learning\n",
        "inception_base = tf.keras.applications.InceptionV3(include_top=False, input_shape=input_shape)\n",
        "\n",
        "# prevent training of transfer model\n",
        "inception_base.trainable = False"
      ]
    },
    {
      "cell_type": "code",
      "execution_count": null,
      "id": "11c23c3a",
      "metadata": {
        "id": "11c23c3a"
      },
      "outputs": [],
      "source": [
        "# add preprocessing lambda layer\n",
        "lambda_layer_inception = tf.keras.layers.Lambda(tf.keras.applications.inception_v3.preprocess_input,\n",
        "                                      name='preprocess_input_inceptv3')\n",
        "\n",
        "def build_inception_model():\n",
        "    model = models.Sequential(name=\"InceptionV3\")\n",
        "    # Use input layer (lambda layer will handle rescaling).\n",
        "    model.add(tf.keras.layers.Input(shape=input_shape))\n",
        "\n",
        "    ## Adding preprocessing lamabda layer\n",
        "    model.add(lambda_layer_inception)\n",
        "\n",
        "    # Add pretrained base\n",
        "    model.add(inception_base)\n",
        "\n",
        "    # Flattening layer\n",
        "    model.add(layers.Flatten())\n",
        "\n",
        "    ## Adding a Hidden Dense Layer\n",
        "    model.add(layers.Dense(256, activation=\"relu\"))\n",
        "    model.add(layers.Dropout(0.5))\n",
        "\n",
        "    # Output layer\n",
        "    model.add(layers.Dense(len(class_names), activation=\"softmax\"))\n",
        "\n",
        "    model.compile(\n",
        "        optimizer=tf.keras.optimizers.legacy.Adam(),\n",
        "        loss=tf.keras.losses.CategoricalCrossentropy(),\n",
        "        metrics=[\"accuracy\"],\n",
        "    )\n",
        "    model.summary()\n",
        "    return model\n",
        "\n"
      ]
    },
    {
      "cell_type": "code",
      "execution_count": null,
      "id": "61a46ebd",
      "metadata": {
        "id": "61a46ebd"
      },
      "outputs": [],
      "source": [
        "def get_callbacks(monitor='val_accuracy', patience=3, restore_best_weights=False):\n",
        "    early_stopping = tf.keras.callbacks.EarlyStopping(patience=patience,\n",
        "                                                      restore_best_weights=restore_best_weights)\n",
        "    return [early_stopping]\n",
        "\n"
      ]
    },
    {
      "cell_type": "code",
      "execution_count": null,
      "id": "d3ad8d29",
      "metadata": {
        "id": "d3ad8d29",
        "outputId": "97a073d0-e3fd-4262-c74f-52d58676d738"
      },
      "outputs": [
        {
          "name": "stdout",
          "output_type": "stream",
          "text": [
            "Model: \"InceptionV3\"\n",
            "_________________________________________________________________\n",
            " Layer (type)                Output Shape              Param #   \n",
            "=================================================================\n",
            " preprocess_input_inceptv3 (  (None, 96, 96, 3)        0         \n",
            " Lambda)                                                         \n",
            "                                                                 \n",
            " inception_v3 (Functional)   (None, 1, 1, 2048)        21802784  \n",
            "                                                                 \n",
            " flatten_1 (Flatten)         (None, 2048)              0         \n",
            "                                                                 \n",
            " dense_2 (Dense)             (None, 256)               524544    \n",
            "                                                                 \n",
            " dropout_1 (Dropout)         (None, 256)               0         \n",
            "                                                                 \n",
            " dense_3 (Dense)             (None, 3)                 771       \n",
            "                                                                 \n",
            "=================================================================\n",
            "Total params: 22,328,099\n",
            "Trainable params: 525,315\n",
            "Non-trainable params: 21,802,784\n",
            "_________________________________________________________________\n",
            "Epoch 1/20\n",
            "151/151 [==============================] - 93s 585ms/step - loss: 0.6195 - accuracy: 0.7759 - val_loss: 0.4040 - val_accuracy: 0.8452\n",
            "Epoch 2/20\n",
            "151/151 [==============================] - 94s 616ms/step - loss: 0.4382 - accuracy: 0.8409 - val_loss: 0.4686 - val_accuracy: 0.8140\n",
            "Epoch 3/20\n",
            "151/151 [==============================] - 87s 571ms/step - loss: 0.3923 - accuracy: 0.8647 - val_loss: 0.3428 - val_accuracy: 0.8721\n",
            "Epoch 4/20\n",
            "151/151 [==============================] - 73s 480ms/step - loss: 0.3525 - accuracy: 0.8744 - val_loss: 0.3567 - val_accuracy: 0.8656\n",
            "Epoch 5/20\n",
            "151/151 [==============================] - 73s 476ms/step - loss: 0.3202 - accuracy: 0.8856 - val_loss: 0.3420 - val_accuracy: 0.8765\n",
            "Epoch 6/20\n",
            "151/151 [==============================] - 69s 452ms/step - loss: 0.2991 - accuracy: 0.8882 - val_loss: 0.3111 - val_accuracy: 0.8859\n",
            "Epoch 7/20\n",
            "151/151 [==============================] - 69s 451ms/step - loss: 0.2934 - accuracy: 0.8967 - val_loss: 0.3135 - val_accuracy: 0.8844\n",
            "Epoch 8/20\n",
            "151/151 [==============================] - 70s 460ms/step - loss: 0.2688 - accuracy: 0.9029 - val_loss: 0.3299 - val_accuracy: 0.8837\n",
            "Epoch 9/20\n",
            "151/151 [==============================] - 70s 460ms/step - loss: 0.2569 - accuracy: 0.9081 - val_loss: 0.3182 - val_accuracy: 0.8874\n"
          ]
        },
        {
          "data": {
            "image/png": "[encoded data removed]",
            "text/plain": [
              "<Figure size 600x600 with 2 Axes>"
            ]
          },
          "metadata": {},
          "output_type": "display_data"
        },
        {
          "name": "stdout",
          "output_type": "stream",
          "text": [
            "\n",
            "================================================================================\n",
            "- Evaluating Network...\n",
            "================================================================================\n",
            "----------------------------------------------------------------------\n",
            " Classification Metrics: Test Data\n",
            "----------------------------------------------------------------------\n",
            "              precision    recall  f1-score   support\n",
            "\n",
            "           0       0.88      0.92      0.90       224\n",
            "           1       0.83      0.90      0.86       245\n",
            "           2       0.95      0.82      0.88       225\n",
            "\n",
            "    accuracy                           0.88       694\n",
            "   macro avg       0.89      0.88      0.88       694\n",
            "weighted avg       0.89      0.88      0.88       694\n",
            "\n"
          ]
        },
        {
          "data": {
            "image/png": "[encoded data removed]",
            "text/plain": [
              "<Figure size 600x400 with 2 Axes>"
            ]
          },
          "metadata": {},
          "output_type": "display_data"
        },
        {
          "name": "stdout",
          "output_type": "stream",
          "text": [
            "\n",
            "- Evaluating Test Data:\n",
            "22/22 [==============================] - 26s 221ms/step - loss: 0.3997 - accuracy: 0.8689\n",
            "{'loss': 0.3997337520122528, 'accuracy': 0.8688760995864868}\n"
          ]
        }
      ],
      "source": [
        "# Build, fit, and evaluate EfficientNet Model\n",
        "model_inception = build_inception_model()\n",
        "history = model_inception.fit(train_ds, validation_data=val_ds,epochs=20,\n",
        "                    callbacks=get_callbacks()\n",
        "                   )\n",
        "evaluate_classification_network(model_inception, X_test=test_ds, history=history);\n"
      ]
    }
  ],
  "metadata": {
    "colab": {
      "provenance": []
    },
    "kernelspec": {
      "display_name": "Python 3 (ipykernel)",
      "language": "python",
      "name": "python3"
    },
    "language_info": {
      "codemirror_mode": {
        "name": "ipython",
        "version": 3
      },
      "file_extension": ".py",
      "mimetype": "text/x-python",
      "name": "python",
      "nbconvert_exporter": "python",
      "pygments_lexer": "ipython3",
      "version": "3.10.9"
    }
  },
  "nbformat": 4,
  "nbformat_minor": 5
}
